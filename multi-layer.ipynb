{
 "cells": [
  {
   "cell_type": "code",
   "execution_count": 1,
   "metadata": {
    "collapsed": true
   },
   "outputs": [],
   "source": [
    "import cPickle as pickle\n",
    "import numpy as np\n",
    "import theano\n",
    "import theano.tensor as T\n",
    "import matplotlib\n",
    "%matplotlib inline\n",
    "import matplotlib.pyplot as plt"
   ]
  },
  {
   "cell_type": "code",
   "execution_count": 2,
   "metadata": {
    "collapsed": true
   },
   "outputs": [],
   "source": [
    "with open('/home/gag/Downloads/mnist.pkl') as f:\n",
    "    data = pickle.load(f)\n",
    "(train_X, train_Y), (valid_X, valid_Y), _ = data"
   ]
  },
  {
   "cell_type": "code",
   "execution_count": 3,
   "metadata": {
    "collapsed": true
   },
   "outputs": [],
   "source": [
    "width = 28\n",
    "height = 28\n",
    "input_dim = width * height\n",
    "nb_classes = 10\n",
    "batch_size = 50\n",
    "hdim = 100"
   ]
  },
  {
   "cell_type": "code",
   "execution_count": 4,
   "metadata": {
    "collapsed": true
   },
   "outputs": [],
   "source": [
    "W00 = np.random.normal(size=(input_dim, hdim)).astype(np.float32)\n",
    "W0 = theano.shared(W00, name='W0')\n",
    "\n",
    "b00 = np.random.normal(size=hdim).astype(np.float32)\n",
    "b0 = theano.shared(b00, name='b0')\n",
    "\n",
    "W01 = np.random.normal(size=(hdim, nb_classes)).astype(np.float32)\n",
    "W1 = theano.shared(W01, name='W1')\n",
    "\n",
    "b01 = np.random.normal(size=nb_classes).astype(np.float32)\n",
    "b1 = theano.shared(b01, name='b1')"
   ]
  },
  {
   "cell_type": "code",
   "execution_count": 5,
   "metadata": {
    "collapsed": true
   },
   "outputs": [],
   "source": [
    "x = T.fmatrix(name='x')\n",
    "y_true = T.fmatrix(name='y')\n",
    "\n",
    "h = np.tanh(T.dot(x, W0) +  b0)\n",
    "y_pred=T.nnet.softmax(T.dot(h, W1)+b1)\n",
    "\n",
    "\n",
    "loss = T.sum((y_true-y_pred)**2)\n",
    "\n",
    "grad_W0 = T.grad(loss, W0)\n",
    "grad_b0 = T.grad(loss, b0)\n",
    "grad_W1 = T.grad(loss, W1)\n",
    "grad_b1 = T.grad(loss, b1)"
   ]
  },
  {
   "cell_type": "code",
   "execution_count": 16,
   "metadata": {
    "collapsed": true
   },
   "outputs": [],
   "source": [
    "alpha = theano.shared(np.array(0.05).astype('float32'), name = 'alpha')\n",
    "train_step = theano.function(inputs=[x, y_true], outputs=loss, updates=[(W0, W0 - alpha * grad_W0),\n",
    "                                                                        (W1,W1-alpha*grad_W1),\n",
    "                                                                        (b0, b0 - alpha * grad_b0),\n",
    "                                                                        (b1,b1-alpha*grad_b1)])\n",
    "pred_step = theano.function(inputs=[x], outputs=y_pred)"
   ]
  },
  {
   "cell_type": "code",
   "execution_count": 17,
   "metadata": {},
   "outputs": [
    {
     "name": "stdout",
     "output_type": "stream",
     "text": [
      "Epoch 0 running... Done\n",
      "Accuracy on train set: 93.926000 %\n",
      "Accuracy on valid set: 93.160000 %\n",
      "Epoch 1 running... Done\n",
      "Accuracy on train set: 92.806000 %\n",
      "Accuracy on valid set: 92.220000 %\n",
      "Epoch 2 running... Done\n",
      "Accuracy on train set: 93.318000 %\n",
      "Accuracy on valid set: 93.180000 %\n",
      "Epoch 3 running... Done\n",
      "Accuracy on train set: 94.332000 %\n",
      "Accuracy on valid set: 93.540000 %\n",
      "Epoch 4 running... Done\n",
      "Accuracy on train set: 94.210000 %\n",
      "Accuracy on valid set: 93.400000 %\n",
      "Epoch 5 running... Done\n",
      "Accuracy on train set: 93.974000 %\n",
      "Accuracy on valid set: 93.620000 %\n",
      "Epoch 6 running... Done\n",
      "Accuracy on train set: 94.394000 %\n",
      "Accuracy on valid set: 93.820000 %\n",
      "Epoch 7 running... Done\n",
      "Accuracy on train set: 94.438000 %\n",
      "Accuracy on valid set: 94.190000 %\n",
      "Epoch 8 running... Done\n",
      "Accuracy on train set: 94.930000 %\n",
      "Accuracy on valid set: 94.340000 %\n",
      "Epoch 9 running... Done\n",
      "Accuracy on train set: 94.598000 %\n",
      "Accuracy on valid set: 94.330000 %\n",
      "Epoch 10 running... Done\n",
      "Accuracy on train set: 95.460000 %\n",
      "Accuracy on valid set: 94.740000 %\n",
      "Epoch 11 running... Done\n",
      "Accuracy on train set: 95.290000 %\n",
      "Accuracy on valid set: 94.940000 %\n",
      "Epoch 12 running... Done\n",
      "Accuracy on train set: 95.692000 %\n",
      "Accuracy on valid set: 94.850000 %\n",
      "Epoch 13 running... Done\n",
      "Accuracy on train set: 96.064000 %\n",
      "Accuracy on valid set: 94.970000 %\n",
      "Epoch 14 running... Done\n",
      "Accuracy on train set: 95.842000 %\n",
      "Accuracy on valid set: 94.390000 %\n",
      "Epoch 15 running... Done\n",
      "Accuracy on train set: 95.606000 %\n",
      "Accuracy on valid set: 94.640000 %\n",
      "Epoch 16 running... Done\n",
      "Accuracy on train set: 95.664000 %\n",
      "Accuracy on valid set: 95.010000 %\n",
      "Epoch 17 running... Done\n",
      "Accuracy on train set: 96.066000 %\n",
      "Accuracy on valid set: 95.100000 %\n",
      "Epoch 18 running... Done\n",
      "Accuracy on train set: 96.132000 %\n",
      "Accuracy on valid set: 95.180000 %\n",
      "Epoch 19 running... Done\n",
      "Accuracy on train set: 95.742000 %\n",
      "Accuracy on valid set: 94.620000 %\n",
      "Epoch 20 running..."
     ]
    },
    {
     "ename": "KeyboardInterrupt",
     "evalue": "",
     "output_type": "error",
     "traceback": [
      "\u001b[0;31m---------------------------------------------------------------------------\u001b[0m",
      "\u001b[0;31mKeyboardInterrupt\u001b[0m                         Traceback (most recent call last)",
      "\u001b[0;32m<ipython-input-17-ad2d785a1aed>\u001b[0m in \u001b[0;36m<module>\u001b[0;34m()\u001b[0m\n\u001b[1;32m      5\u001b[0m         \u001b[0mbatch_X\u001b[0m \u001b[0;34m=\u001b[0m \u001b[0mtrain_X\u001b[0m\u001b[0;34m[\u001b[0m\u001b[0mstart\u001b[0m\u001b[0;34m:\u001b[0m\u001b[0mend\u001b[0m\u001b[0;34m]\u001b[0m\u001b[0;34m\u001b[0m\u001b[0m\n\u001b[1;32m      6\u001b[0m         \u001b[0mbatch_Y\u001b[0m \u001b[0;34m=\u001b[0m \u001b[0mtrain_Y\u001b[0m\u001b[0;34m[\u001b[0m\u001b[0mstart\u001b[0m\u001b[0;34m:\u001b[0m\u001b[0mend\u001b[0m\u001b[0;34m]\u001b[0m\u001b[0;34m\u001b[0m\u001b[0m\n\u001b[0;32m----> 7\u001b[0;31m         \u001b[0mtrain_step\u001b[0m\u001b[0;34m(\u001b[0m\u001b[0mbatch_X\u001b[0m\u001b[0;34m,\u001b[0m \u001b[0mbatch_Y\u001b[0m\u001b[0;34m)\u001b[0m\u001b[0;34m\u001b[0m\u001b[0m\n\u001b[0m\u001b[1;32m      8\u001b[0m     \u001b[0;32mprint\u001b[0m \u001b[0;34m'Done'\u001b[0m\u001b[0;34m\u001b[0m\u001b[0m\n\u001b[1;32m      9\u001b[0m \u001b[0;34m\u001b[0m\u001b[0m\n",
      "\u001b[0;32m/home/gag/.local/lib/python2.7/site-packages/theano/compile/function_module.pyc\u001b[0m in \u001b[0;36m__call__\u001b[0;34m(self, *args, **kwargs)\u001b[0m\n\u001b[1;32m    882\u001b[0m         \u001b[0;32mtry\u001b[0m\u001b[0;34m:\u001b[0m\u001b[0;34m\u001b[0m\u001b[0m\n\u001b[1;32m    883\u001b[0m             \u001b[0moutputs\u001b[0m \u001b[0;34m=\u001b[0m\u001b[0;31m\\\u001b[0m\u001b[0;34m\u001b[0m\u001b[0m\n\u001b[0;32m--> 884\u001b[0;31m                 \u001b[0mself\u001b[0m\u001b[0;34m.\u001b[0m\u001b[0mfn\u001b[0m\u001b[0;34m(\u001b[0m\u001b[0;34m)\u001b[0m \u001b[0;32mif\u001b[0m \u001b[0moutput_subset\u001b[0m \u001b[0;32mis\u001b[0m \u001b[0mNone\u001b[0m \u001b[0;32melse\u001b[0m\u001b[0;31m\\\u001b[0m\u001b[0;34m\u001b[0m\u001b[0m\n\u001b[0m\u001b[1;32m    885\u001b[0m                 \u001b[0mself\u001b[0m\u001b[0;34m.\u001b[0m\u001b[0mfn\u001b[0m\u001b[0;34m(\u001b[0m\u001b[0moutput_subset\u001b[0m\u001b[0;34m=\u001b[0m\u001b[0moutput_subset\u001b[0m\u001b[0;34m)\u001b[0m\u001b[0;34m\u001b[0m\u001b[0m\n\u001b[1;32m    886\u001b[0m         \u001b[0;32mexcept\u001b[0m \u001b[0mException\u001b[0m\u001b[0;34m:\u001b[0m\u001b[0;34m\u001b[0m\u001b[0m\n",
      "\u001b[0;31mKeyboardInterrupt\u001b[0m: "
     ]
    }
   ],
   "source": [
    "for epoch in range(1000):\n",
    "    print 'Epoch %d running...' % epoch,\n",
    "    for start in range(0, len(train_X), batch_size):\n",
    "        end = start + batch_size\n",
    "        batch_X = train_X[start:end]\n",
    "        batch_Y = train_Y[start:end]\n",
    "        train_step(batch_X, batch_Y)\n",
    "    print 'Done'\n",
    "    \n",
    "    \n",
    "   \n",
    "    acc = 0\n",
    "    for start in range(0, len(train_X), batch_size):\n",
    "        end = start + batch_size\n",
    "        batch_X = train_X[start:end]\n",
    "        batch_Y_true = train_Y[start:end].argmax(axis=-1)\n",
    "        batch_Y_pred = pred_step(batch_X).argmax(axis=-1)\n",
    "        acc += np.equal(batch_Y_true, batch_Y_pred).sum()\n",
    "    acc *= 100.0 / len(train_X)\n",
    "    print 'Accuracy on train set: %f %%' % acc\n",
    "    \n",
    "    acc = 0\n",
    "    for start in range(0, len(valid_X), batch_size):\n",
    "        end = start + batch_size\n",
    "        batch_X = valid_X[start:end]\n",
    "        batch_Y_true = valid_Y[start:end].argmax(axis=-1)\n",
    "        batch_Y_pred = pred_step(batch_X).argmax(axis=-1)\n",
    "        acc += np.equal(batch_Y_true, batch_Y_pred).sum()\n",
    "    acc *= 100.0 / len(valid_X)\n",
    "    print 'Accuracy on valid set: %f %%' % acc\n",
    "print 'Trained!'"
   ]
  },
  {
   "cell_type": "code",
   "execution_count": null,
   "metadata": {
    "collapsed": true
   },
   "outputs": [],
   "source": []
  },
  {
   "cell_type": "code",
   "execution_count": null,
   "metadata": {
    "collapsed": true
   },
   "outputs": [],
   "source": []
  },
  {
   "cell_type": "code",
   "execution_count": null,
   "metadata": {
    "collapsed": true
   },
   "outputs": [],
   "source": []
  },
  {
   "cell_type": "code",
   "execution_count": null,
   "metadata": {
    "collapsed": true
   },
   "outputs": [],
   "source": []
  }
 ],
 "metadata": {
  "kernelspec": {
   "display_name": "Python 2",
   "language": "python",
   "name": "python2"
  },
  "language_info": {
   "codemirror_mode": {
    "name": "ipython",
    "version": 2
   },
   "file_extension": ".py",
   "mimetype": "text/x-python",
   "name": "python",
   "nbconvert_exporter": "python",
   "pygments_lexer": "ipython2",
   "version": "2.7.12"
  }
 },
 "nbformat": 4,
 "nbformat_minor": 2
}
